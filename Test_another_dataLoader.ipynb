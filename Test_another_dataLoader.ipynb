{
 "cells": [
  {
   "cell_type": "code",
   "execution_count": 1,
   "id": "68a74ca5",
   "metadata": {},
   "outputs": [],
   "source": [
    "import os\n",
    "\n",
    "import torch\n",
    "from torch import nn\n",
    "from torch import optim\n",
    "from torch.utils.data import Dataset, DataLoader\n",
    "from torchvision import models\n",
    "import torch.nn.functional as F\n",
    "from torch.utils.tensorboard import SummaryWriter\n",
    "import cv2\n",
    "\n",
    "import albumentations as A\n",
    "\n",
    "import albumentations.pytorch\n",
    "\n",
    "import random\n",
    "import numpy as np\n",
    "import pandas as pd\n",
    "import scipy.ndimage as ndi\n",
    "from tqdm import tqdm, tqdm_notebook\n",
    "\n",
    "import pickle\n",
    "from pathlib import Path\n",
    "import PIL\n",
    "\n",
    "import GPUtil\n",
    "from GPUtil import showUtilization as gpu_usage\n",
    "\n",
    "import matplotlib.pyplot as plt\n",
    "import seaborn as sns\n",
    "from skimage.filters import threshold_otsu\n",
    "from sklearn.model_selection import train_test_split\n",
    "from sklearn.metrics import accuracy_score, f1_score\n",
    "\n",
    "from jupyterthemes import jtplot\n",
    "import warnings\n",
    "\n",
    "#import functools"
   ]
  },
  {
   "cell_type": "code",
   "execution_count": 2,
   "id": "e9d523f7",
   "metadata": {},
   "outputs": [],
   "source": [
    "os.environ['CUDA_LAUNCH_BLOCKING'] = '1'\n",
    "jtplot.style(theme='monokai', context='notebook', ticks=True, grid=False)\n",
    "warnings.filterwarnings(action='ignore', category=DeprecationWarning)\n",
    "\n",
    "%matplotlib inline\n",
    "\n",
    "#torch.backends.cudnn.benchmark = True\n",
    "#torch.backends.cudnn.enabled = True"
   ]
  },
  {
   "cell_type": "code",
   "execution_count": 3,
   "id": "ad870022",
   "metadata": {},
   "outputs": [],
   "source": [
    "def set_random(n):\n",
    "    random.seed(n)\n",
    "    np.random.seed(n)\n",
    "    torch.manual_seed(n)\n",
    "    torch.cuda.manual_seed(n)\n",
    "    torch.backends.cudnn.deterministic = True\n",
    "    "
   ]
  },
  {
   "cell_type": "markdown",
   "id": "94c1b33e",
   "metadata": {},
   "source": [
    "# Load data"
   ]
  },
  {
   "cell_type": "markdown",
   "id": "c99d4809",
   "metadata": {},
   "source": [
    "# Visualize the data"
   ]
  },
  {
   "cell_type": "markdown",
   "id": "56f11c75",
   "metadata": {},
   "source": [
    "Create functions to make a mask based on annotations given in train.csv file"
   ]
  },
  {
   "cell_type": "markdown",
   "id": "baf40e2a",
   "metadata": {},
   "source": [
    "# DataSets"
   ]
  },
  {
   "cell_type": "code",
   "execution_count": 5,
   "id": "dd29354c",
   "metadata": {},
   "outputs": [],
   "source": [
    "from os.path import join\n",
    "from albumentations import (HorizontalFlip, VerticalFlip, ShiftScaleRotate, Normalize, Resize, Compose, GaussNoise)"
   ]
  },
  {
   "cell_type": "code",
   "execution_count": 6,
   "id": "46885f9b",
   "metadata": {},
   "outputs": [
    {
     "name": "stdout",
     "output_type": "stream",
     "text": [
      "Training Set Shape: (73585, 9) - 606 Images - Memory Usage: 5.05 MB\n"
     ]
    }
   ],
   "source": [
    "DATA_PATH = './sartorius-cell-instance-segmentation'\n",
    "SAMPLE_SUBMISSION = join(DATA_PATH,'train')\n",
    "TRAIN_CSV = join(DATA_PATH,'train.csv')\n",
    "TRAIN_PATH = join(DATA_PATH,'train')\n",
    "TEST_PATH = join(DATA_PATH,'test')\n",
    "\n",
    "df_train = pd.read_csv(TRAIN_CSV)\n",
    "print(f'Training Set Shape: {df_train.shape} - {df_train[\"id\"].nunique()} \\\n",
    "Images - Memory Usage: {df_train.memory_usage().sum() / 1024 ** 2:.2f} MB')"
   ]
  },
  {
   "cell_type": "code",
   "execution_count": 7,
   "id": "e8e6fcdd",
   "metadata": {},
   "outputs": [],
   "source": [
    "\n",
    "\n",
    "def rle_decode(mask_rle, shape, color=1):\n",
    "    '''\n",
    "    mask_rle: run-length as string formated (start length)\n",
    "    shape: (height,width) of array to return \n",
    "    Returns numpy array, 1 - mask, 0 - background\n",
    "\n",
    "    '''\n",
    "    s = mask_rle.split()\n",
    "    starts, lengths = [np.asarray(x, dtype=int) for x in (s[0:][::2], s[1:][::2])]\n",
    "    starts -= 1\n",
    "    ends = starts + lengths\n",
    "    img = np.zeros(shape[0] * shape[1], dtype=np.float32)\n",
    "    for lo, hi in zip(starts, ends):\n",
    "        img[lo : hi] = color\n",
    "    return img.reshape(shape)\n",
    "\n",
    "def build_masks(df_train, image_id, input_shape):\n",
    "    height, width = input_shape\n",
    "    labels = df_train[df_train[\"id\"] == image_id][\"annotation\"].tolist()\n",
    "    mask = np.zeros((height, width))\n",
    "    for label in labels:\n",
    "        mask += rle_decode(label, shape=(height, width))\n",
    "    mask = mask.clip(0, 1)\n",
    "    return np.array(mask)\n",
    "\n"
   ]
  },
  {
   "cell_type": "code",
   "execution_count": 8,
   "id": "d442f893",
   "metadata": {},
   "outputs": [],
   "source": [
    "class CellDataset(Dataset):\n",
    "    def __init__(self, df: pd.core.frame.DataFrame, train:bool):\n",
    "        self.IMAGE_RESIZE = (224, 224)\n",
    "        self.RESNET_MEAN = (0.485, 0.456, 0.406)\n",
    "        self.RESNET_STD = (0.229, 0.224, 0.225)\n",
    "        self.df = df\n",
    "        self.base_path = TRAIN_PATH\n",
    "        self.gb = self.df.groupby('id')\n",
    "        self.transforms = Compose([Resize( self.IMAGE_RESIZE[0],  self.IMAGE_RESIZE[1]), \n",
    "                                   Normalize(mean=self.RESNET_MEAN, std= self.RESNET_STD, p=1), \n",
    "                                   HorizontalFlip(p=0.5),\n",
    "                                   VerticalFlip(p=0.5)])\n",
    "        \n",
    "        # Split train and val set\n",
    "        all_image_ids = np.array(df_train.id.unique())\n",
    "        np.random.seed(42)\n",
    "        iperm = np.random.permutation(len(all_image_ids))\n",
    "        num_train_samples = int(len(all_image_ids) * 0.9)\n",
    "\n",
    "        if train:\n",
    "            self.image_ids = all_image_ids[iperm[:num_train_samples]]\n",
    "        else:\n",
    "             self.image_ids = all_image_ids[iperm[num_train_samples:]]\n",
    "\n",
    "    def __getitem__(self, idx: int) -> dict:\n",
    "\n",
    "        image_id = self.image_ids[idx]\n",
    "        df = self.gb.get_group(image_id)\n",
    "\n",
    "        # Read image\n",
    "        image_path = os.path.join(self.base_path, image_id + \".png\")\n",
    "        image = cv2.imread(image_path)\n",
    "\n",
    "        # Create the mask\n",
    "        mask = build_masks(df_train, image_id, input_shape=(520, 704))\n",
    "        mask = (mask >= 1).astype('float32')\n",
    "        augmented = self.transforms(image=image, mask=mask)\n",
    "        image = augmented['image']\n",
    "        mask = augmented['mask']\n",
    "        # print(np.moveaxis(image,0,2).shape)\n",
    "        return np.moveaxis(np.array(image),2,0), mask.reshape((1, self.IMAGE_RESIZE[0], self.IMAGE_RESIZE[1]))\n",
    "\n",
    "\n",
    "    def __len__(self):\n",
    "        return len(self.image_ids)"
   ]
  },
  {
   "cell_type": "code",
   "execution_count": 9,
   "id": "3cb9ba45",
   "metadata": {},
   "outputs": [],
   "source": [
    "ds_train = CellDataset(df_train, train=True)\n",
    "dl_train = DataLoader(ds_train, batch_size=4, num_workers=12, pin_memory=True, shuffle=False)"
   ]
  },
  {
   "cell_type": "code",
   "execution_count": 10,
   "id": "6cb11f06",
   "metadata": {},
   "outputs": [],
   "source": [
    "ds_test = CellDataset(df_train, train=False)\n",
    "dl_test = DataLoader(ds_test, batch_size=4, num_workers=12, pin_memory=True, shuffle=False)"
   ]
  },
  {
   "cell_type": "code",
   "execution_count": 11,
   "id": "a1b8cd3e",
   "metadata": {},
   "outputs": [
    {
     "name": "stdout",
     "output_type": "stream",
     "text": [
      "image shape: torch.Size([4, 3, 224, 224]),\n",
      "mask shape:torch.Size([4, 1, 224, 224]),\n",
      "batch len: 2\n"
     ]
    }
   ],
   "source": [
    "\n",
    "\n",
    "# plot simages and mask from dataloader\n",
    "batch = next(iter(dl_train))\n",
    "images, masks = batch\n",
    "print(f\"image shape: {images.shape},\\nmask shape:{masks.shape},\\nbatch len: {len(batch)}\")"
   ]
  },
  {
   "cell_type": "markdown",
   "id": "bffaadc7",
   "metadata": {},
   "source": [
    "## Split train-val set"
   ]
  },
  {
   "cell_type": "markdown",
   "id": "dc8536b7",
   "metadata": {},
   "source": [
    "## Data Loaders"
   ]
  },
  {
   "cell_type": "markdown",
   "id": "27e7aacf",
   "metadata": {},
   "source": [
    "# Unet-baseline"
   ]
  },
  {
   "cell_type": "code",
   "execution_count": 13,
   "id": "5fa05dfa",
   "metadata": {},
   "outputs": [],
   "source": [
    "# Create convolution block class\n",
    "class Conv_Block(nn.Module):\n",
    "    '''convolution ==> BN ==> ReLU'''\n",
    "    \n",
    "    def __init__(self, in_channels, out_channels):\n",
    "        super().__init__()\n",
    "        self.conv = nn.Sequential(\n",
    "            nn.Conv2d(in_channels, out_channels, kernel_size=3, padding=1),\n",
    "            nn.BatchNorm2d(out_channels),\n",
    "            nn.Conv2d(out_channels, out_channels, kernel_size=3, padding=1),\n",
    "            nn.BatchNorm2d(out_channels),\n",
    "            nn.ReLU(inplace=True)\n",
    "        )\n",
    "    \n",
    "    def forward(self, x):\n",
    "        x = self.conv(x)\n",
    "        return x"
   ]
  },
  {
   "cell_type": "code",
   "execution_count": 14,
   "id": "bc56de52",
   "metadata": {},
   "outputs": [],
   "source": [
    "class Encoder(nn.Module):\n",
    "    \"\"\"Downscaling with maxpool then double conv\"\"\"\n",
    "\n",
    "    def __init__(self, in_channels, out_channels):\n",
    "        super().__init__()\n",
    "        self.maxpool_conv = nn.Sequential(\n",
    "            Conv_Block(in_channels, out_channels),\n",
    "            nn.MaxPool2d(2)\n",
    "        )\n",
    "\n",
    "    def forward(self, x):\n",
    "        return self.maxpool_conv(x)"
   ]
  },
  {
   "cell_type": "code",
   "execution_count": 15,
   "id": "e739d1e1",
   "metadata": {},
   "outputs": [],
   "source": [
    "class Decoder(nn.Module):\n",
    "    \"\"\"Upscaling then double conv\"\"\"\n",
    "    def __init__(self, in_channels, out_channels, bilinear=True):\n",
    "        super().__init__()\n",
    "        # if bilinear, use the normal convolutions to reduce the number of channels\n",
    "        if bilinear:\n",
    "            self.up = nn.Upsample(scale_factor=2, mode='bilinear', align_corners=True)\n",
    "        else:\n",
    "            self.up = nn.ConvTranspose2d(in_channels // 2, in_channels // 2, kernel_size=2, stride=2)\n",
    "            \n",
    "        self.conv = Conv_Block(in_channels, out_channels)\n",
    "        \n",
    "    def forward(self, x1, x2):\n",
    "        x1 = self.up(x1)\n",
    "#         # input CxHxW\n",
    "#         diffY = torch.tensor([x2.size()[2] - x1.size()[2]])\n",
    "#         diffX = torch.tensor([x2.size()[3] - x1.size()[3]])\n",
    "        \n",
    "#         x1 = F.pad(x1, [diffX // 2, diffX - diffX // 2,\n",
    "#                        diffY // 2, diffY - diffY // 2])\n",
    "        x = torch.cat([x2, x1], dim=1)\n",
    "        x = self.conv(x)\n",
    "        return x"
   ]
  },
  {
   "cell_type": "code",
   "execution_count": 16,
   "id": "ddf97241",
   "metadata": {},
   "outputs": [],
   "source": [
    "class OutConv(nn.Module):\n",
    "    def __init__(self, in_channels, out_channels):\n",
    "        super(OutConv, self).__init__()\n",
    "        self.conv = nn.Conv2d(in_channels, out_channels, kernel_size=1)\n",
    "\n",
    "    def forward(self, x):\n",
    "        return self.conv(x)"
   ]
  },
  {
   "cell_type": "code",
   "execution_count": 17,
   "id": "ddcbf3e1",
   "metadata": {},
   "outputs": [],
   "source": [
    "class UNet(nn.Module):\n",
    "    def __init__(self, n_channels, n_classes, bilinear=True):\n",
    "        super(UNet, self).__init__()\n",
    "        self.n_channels = n_channels\n",
    "        self.n_classes = n_classes\n",
    "        self.bilinear = bilinear\n",
    "        \n",
    "        self.inc = Conv_Block(n_channels, 64)\n",
    "        self.enc1 = Encoder(64, 128)\n",
    "        self.enc2 = Encoder(128, 256)\n",
    "        self.enc3 = Encoder(256, 512)\n",
    "        self.enc4 = Encoder(512, 512)\n",
    "        self.dec1 = Decoder(1024, 256, bilinear)\n",
    "        self.dec2 = Decoder(512, 128, bilinear)\n",
    "        self.dec3 = Decoder(256, 64, bilinear)\n",
    "        self.dec4 = Decoder(128, 64, bilinear)\n",
    "        self.outc = OutConv(64, n_classes)\n",
    "        \n",
    "    def forward(self, x):\n",
    "        x1 = self.inc(x)\n",
    "        x2 = self.enc1(x1)\n",
    "        x3 = self.enc2(x2)\n",
    "        x4 = self.enc3(x3)\n",
    "        x5 = self.enc4(x4)\n",
    "        x = self.dec1(x5, x4)\n",
    "        x = self.dec2(x, x3)\n",
    "        x = self.dec3(x, x2)\n",
    "        x = self.dec4(x, x1)\n",
    "        logits = self.outc(x)\n",
    "        return logits"
   ]
  },
  {
   "cell_type": "code",
   "execution_count": 18,
   "id": "ad66edd3",
   "metadata": {},
   "outputs": [
    {
     "name": "stdout",
     "output_type": "stream",
     "text": [
      "cuda\n"
     ]
    }
   ],
   "source": [
    "device = torch.device('cuda' if torch.cuda.is_available() else 'cpu')\n",
    "print(device)"
   ]
  },
  {
   "cell_type": "code",
   "execution_count": 19,
   "id": "459f406f",
   "metadata": {},
   "outputs": [],
   "source": [
    "def train_loop(model, optimizer, criterion, train_loader, device=device):\n",
    "    running_loss = 0\n",
    "    model.train()\n",
    "    pbar = tqdm(train_loader, desc='Iterating over train data')\n",
    "    \n",
    "#     print(f\"Initial GPU Usage at fit_epoch\")\n",
    "#     gpu_usage()\n",
    "    \n",
    "    for imgs, masks in pbar:\n",
    "        optimizer.zero_grad()\n",
    "        imgs=imgs.to(device).float()\n",
    "        masks = masks.to(device).float()\n",
    "        # forward\n",
    "        \n",
    "        out = model(imgs)\n",
    "        loss = criterion(out, masks)\n",
    "        running_loss += loss.item()*imgs.shape[0]\n",
    "        \n",
    "        loss.backward()\n",
    "#         print(f\"In loop before del\")\n",
    "#         gpu_usage()\n",
    "        del imgs, masks\n",
    "#         print(f\"Afteer deletion in loop\")\n",
    "#         gpu_usage()\n",
    "        torch.cuda.empty_cache()\n",
    "        \n",
    "    running_loss /= len(train_loader.sampler)\n",
    "    print('Train_loss: %f' % running_loss)\n",
    "    torch.cuda.empty_cache()\n",
    "    #print(f\"Afteer deletion\")\n",
    "    #gpu_usage()\n",
    "    return running_loss"
   ]
  },
  {
   "cell_type": "code",
   "execution_count": 20,
   "id": "cc6200ff",
   "metadata": {},
   "outputs": [],
   "source": [
    "from IPython.display import clear_output"
   ]
  },
  {
   "cell_type": "code",
   "execution_count": 21,
   "id": "fcfdb3e4",
   "metadata": {},
   "outputs": [],
   "source": [
    "def eval_loop(model, criterion, val_loader, device=device):\n",
    "    running_loss=0\n",
    "    model.eval()\n",
    "    with torch.no_grad():\n",
    "        accuracy, f1_scores = [], []\n",
    "        pbar = tqdm(val_loader, desc='Iterating over evaluation data')\n",
    "        for imgs, masks in pbar:\n",
    "            imgs = imgs.to(device).float()\n",
    "            masks = masks.to(device).float()\n",
    "            # forward\n",
    "            out = model(imgs)\n",
    "            loss = criterion(out, masks)\n",
    "            running_loss += loss.item()*imgs.shape[0]\n",
    "            # calculate predictions using output\n",
    "            \n",
    "            y_hat = (out > 0.5).float()\n",
    "            y_hat = y_hat.view(-1).detach().cpu().numpy()\n",
    "            labels = masks.view(-1).detach().cpu().numpy()\n",
    "            accuracy.append(accuracy_score(labels, y_hat))\n",
    "            f1_scores.append(f1_score(labels, y_hat))\n",
    "            \n",
    "    acc = sum(accuracy)/len(accuracy)\n",
    "    f1 = sum(f1_scores)/len(f1_scores)\n",
    "    running_loss /= len(val_loader.sampler)\n",
    "    print('Val_loss: %f' % running_loss)\n",
    "    del imgs, masks, y_hat, labels\n",
    "    torch.cuda.empty_cache()\n",
    "    \n",
    "    return {\n",
    "        'accuracy':acc,\n",
    "        'f1_macro':f1, \n",
    "        'loss':running_loss}"
   ]
  },
  {
   "cell_type": "code",
   "execution_count": 22,
   "id": "cbf258df",
   "metadata": {},
   "outputs": [],
   "source": [
    "def visualize_train(model,val_loader, device=device):\n",
    "    model.eval()\n",
    "    X_val, Y_val = next(iter(val_loader))\n",
    "    Y_hat = model(X_val.to(device))\n",
    "    Y_hat = Y_hat.detach().cpu().numpy()\n",
    "    \n",
    "    clear_output(wait=True)\n",
    "    for k in range(2):\n",
    "        fig, (ax1, ax2) = plt.subplots(1, 2, figsize=(10, 5),)\n",
    "        ax1.imshow(np.rollaxis(X_val[k].numpy(), 0, 3),cmap='gray')\n",
    "        #ax2.imshow(((Y_hat[k, 0] * 255)).astype('uint8'), cmap='gray')\n",
    "        ax2.imshow(((Y_hat[k, 0] * 255)), cmap='gray')\n",
    "        ax1.set_axis_off()\n",
    "        ax2.set_axis_off()\n",
    "        ax1.set_title('Real')\n",
    "        ax2.set_title('Output')\n",
    "    #plt.suptitle('%d / %d - loss: %f' % (epoch+1, epochs, avg_loss))\n",
    "    plt.show()\n",
    "    del X_val, Y_hat"
   ]
  },
  {
   "cell_type": "code",
   "execution_count": 23,
   "id": "26dbf553",
   "metadata": {},
   "outputs": [],
   "source": [
    "def train(model,optimizer,criterion,\n",
    "          train_loader,val_loader,\n",
    "          device=device,epochs=5,\n",
    "          valid_loss_min=np.inf,vis=True):\n",
    "    writer = SummaryWriter(comment=f'BS_{train_loader.batch_size}_Epchs_{epochs}')\n",
    "    history = []\n",
    "    \n",
    "    \n",
    "    for epoch in range(epochs):\n",
    "        train_loss = train_loop(model,optimizer,criterion,train_loader,device=device)\n",
    "        # evaluate on validation set\n",
    "        metrics = eval_loop(model,criterion,val_loader,device=device)\n",
    "        history.append((train_loss,metrics[\"loss\"],metrics[\"accuracy\"]))\n",
    "        \n",
    "        if vis:\n",
    "            visualize_train(model,val_loader,device=device)\n",
    "        \n",
    "        # show progress\n",
    "        print_string = f'Epoch: {epoch+1} '\n",
    "        print_string+= f'TrainLoss from train func: {train_loss:.5f} '\n",
    "        print_string+= f'ValidLoss from train func: {metrics[\"loss\"]:.5f} '\n",
    "        print_string+= f'ACC: {metrics[\"accuracy\"]:.5f} '\n",
    "        print_string+= f'F1: {metrics[\"f1_macro\"]:.3f}'\n",
    "        print(print_string)\n",
    "    \n",
    "    return history"
   ]
  },
  {
   "cell_type": "code",
   "execution_count": 24,
   "id": "9a3e3175",
   "metadata": {},
   "outputs": [],
   "source": [
    "model = UNet(3,1)\n",
    "model = model.to(device)"
   ]
  },
  {
   "cell_type": "code",
   "execution_count": 25,
   "id": "9bd94f61",
   "metadata": {},
   "outputs": [],
   "source": [
    "from Losses import ComboLoss, dice_metric\n",
    "CRITERION        = ComboLoss(**{'weights':{'bce':3, 'dice':1, 'focal':4}})"
   ]
  },
  {
   "cell_type": "code",
   "execution_count": 26,
   "id": "37bd3060",
   "metadata": {},
   "outputs": [],
   "source": [
    "# from https://www.kaggle.com/rishabhiitbhu/unet-with-resnet34-encoder-pytorch\n",
    "def dice_loss(input, target):\n",
    "    input = torch.sigmoid(input)\n",
    "    smooth = 1.0\n",
    "    iflat = input.view(-1)\n",
    "    tflat = target.view(-1)\n",
    "    intersection = (iflat * tflat).sum()\n",
    "    return ((2.0 * intersection + smooth) / (iflat.sum() + tflat.sum() + smooth))"
   ]
  },
  {
   "cell_type": "code",
   "execution_count": 31,
   "id": "450dbfcf",
   "metadata": {},
   "outputs": [],
   "source": [
    "max_epochs = 30\n",
    "optim = torch.optim.Adam(model.parameters(), lr=1e-3)"
   ]
  },
  {
   "cell_type": "code",
   "execution_count": 32,
   "id": "79f6c971",
   "metadata": {},
   "outputs": [
    {
     "name": "stderr",
     "output_type": "stream",
     "text": [
      "Iterating over train data: 100%|██████████████| 137/137 [00:31<00:00,  4.35it/s]\n"
     ]
    },
    {
     "name": "stdout",
     "output_type": "stream",
     "text": [
      "Train_loss: 0.149365\n"
     ]
    },
    {
     "name": "stderr",
     "output_type": "stream",
     "text": [
      "Iterating over evaluation data: 100%|███████████| 16/16 [00:03<00:00,  4.41it/s]\n"
     ]
    },
    {
     "name": "stdout",
     "output_type": "stream",
     "text": [
      "Val_loss: 0.144247\n",
      "Epoch: 1 TrainLoss from train func: 0.14936 ValidLoss from train func: 0.14425 ACC: 0.90339 F1: 0.011\n"
     ]
    },
    {
     "name": "stderr",
     "output_type": "stream",
     "text": [
      "Iterating over train data: 100%|██████████████| 137/137 [00:32<00:00,  4.28it/s]\n"
     ]
    },
    {
     "name": "stdout",
     "output_type": "stream",
     "text": [
      "Train_loss: 0.149302\n"
     ]
    },
    {
     "name": "stderr",
     "output_type": "stream",
     "text": [
      "Iterating over evaluation data: 100%|███████████| 16/16 [00:03<00:00,  4.18it/s]\n"
     ]
    },
    {
     "name": "stdout",
     "output_type": "stream",
     "text": [
      "Val_loss: 0.144228\n",
      "Epoch: 2 TrainLoss from train func: 0.14930 ValidLoss from train func: 0.14423 ACC: 0.90343 F1: 0.011\n"
     ]
    },
    {
     "name": "stderr",
     "output_type": "stream",
     "text": [
      "Iterating over train data: 100%|██████████████| 137/137 [00:32<00:00,  4.26it/s]\n"
     ]
    },
    {
     "name": "stdout",
     "output_type": "stream",
     "text": [
      "Train_loss: 0.149326\n"
     ]
    },
    {
     "name": "stderr",
     "output_type": "stream",
     "text": [
      "Iterating over evaluation data: 100%|███████████| 16/16 [00:03<00:00,  4.31it/s]\n"
     ]
    },
    {
     "name": "stdout",
     "output_type": "stream",
     "text": [
      "Val_loss: 0.144203\n",
      "Epoch: 3 TrainLoss from train func: 0.14933 ValidLoss from train func: 0.14420 ACC: 0.90340 F1: 0.010\n"
     ]
    },
    {
     "name": "stderr",
     "output_type": "stream",
     "text": [
      "Iterating over train data: 100%|██████████████| 137/137 [00:32<00:00,  4.22it/s]\n"
     ]
    },
    {
     "name": "stdout",
     "output_type": "stream",
     "text": [
      "Train_loss: 0.149332\n"
     ]
    },
    {
     "name": "stderr",
     "output_type": "stream",
     "text": [
      "Iterating over evaluation data: 100%|███████████| 16/16 [00:03<00:00,  4.48it/s]\n"
     ]
    },
    {
     "name": "stdout",
     "output_type": "stream",
     "text": [
      "Val_loss: 0.144347\n",
      "Epoch: 4 TrainLoss from train func: 0.14933 ValidLoss from train func: 0.14435 ACC: 0.90333 F1: 0.010\n"
     ]
    },
    {
     "name": "stderr",
     "output_type": "stream",
     "text": [
      "Iterating over train data: 100%|██████████████| 137/137 [00:32<00:00,  4.24it/s]\n"
     ]
    },
    {
     "name": "stdout",
     "output_type": "stream",
     "text": [
      "Train_loss: 0.149355\n"
     ]
    },
    {
     "name": "stderr",
     "output_type": "stream",
     "text": [
      "Iterating over evaluation data: 100%|███████████| 16/16 [00:03<00:00,  4.33it/s]\n"
     ]
    },
    {
     "name": "stdout",
     "output_type": "stream",
     "text": [
      "Val_loss: 0.144347\n",
      "Epoch: 5 TrainLoss from train func: 0.14935 ValidLoss from train func: 0.14435 ACC: 0.90337 F1: 0.010\n"
     ]
    },
    {
     "name": "stderr",
     "output_type": "stream",
     "text": [
      "Iterating over train data: 100%|██████████████| 137/137 [00:32<00:00,  4.28it/s]\n"
     ]
    },
    {
     "name": "stdout",
     "output_type": "stream",
     "text": [
      "Train_loss: 0.149244\n"
     ]
    },
    {
     "name": "stderr",
     "output_type": "stream",
     "text": [
      "Iterating over evaluation data: 100%|███████████| 16/16 [00:03<00:00,  4.36it/s]\n"
     ]
    },
    {
     "name": "stdout",
     "output_type": "stream",
     "text": [
      "Val_loss: 0.143961\n",
      "Epoch: 6 TrainLoss from train func: 0.14924 ValidLoss from train func: 0.14396 ACC: 0.90336 F1: 0.009\n"
     ]
    },
    {
     "name": "stderr",
     "output_type": "stream",
     "text": [
      "Iterating over train data: 100%|██████████████| 137/137 [00:32<00:00,  4.25it/s]\n"
     ]
    },
    {
     "name": "stdout",
     "output_type": "stream",
     "text": [
      "Train_loss: 0.149329\n"
     ]
    },
    {
     "name": "stderr",
     "output_type": "stream",
     "text": [
      "Iterating over evaluation data: 100%|███████████| 16/16 [00:03<00:00,  4.48it/s]\n"
     ]
    },
    {
     "name": "stdout",
     "output_type": "stream",
     "text": [
      "Val_loss: 0.144132\n",
      "Epoch: 7 TrainLoss from train func: 0.14933 ValidLoss from train func: 0.14413 ACC: 0.90343 F1: 0.010\n"
     ]
    },
    {
     "name": "stderr",
     "output_type": "stream",
     "text": [
      "Iterating over train data: 100%|██████████████| 137/137 [00:32<00:00,  4.26it/s]\n"
     ]
    },
    {
     "name": "stdout",
     "output_type": "stream",
     "text": [
      "Train_loss: 0.149275\n"
     ]
    },
    {
     "name": "stderr",
     "output_type": "stream",
     "text": [
      "Iterating over evaluation data: 100%|███████████| 16/16 [00:03<00:00,  4.29it/s]\n"
     ]
    },
    {
     "name": "stdout",
     "output_type": "stream",
     "text": [
      "Val_loss: 0.144287\n",
      "Epoch: 8 TrainLoss from train func: 0.14928 ValidLoss from train func: 0.14429 ACC: 0.90337 F1: 0.009\n"
     ]
    },
    {
     "name": "stderr",
     "output_type": "stream",
     "text": [
      "Iterating over train data: 100%|██████████████| 137/137 [00:33<00:00,  4.13it/s]\n"
     ]
    },
    {
     "name": "stdout",
     "output_type": "stream",
     "text": [
      "Train_loss: 0.149379\n"
     ]
    },
    {
     "name": "stderr",
     "output_type": "stream",
     "text": [
      "Iterating over evaluation data: 100%|███████████| 16/16 [00:03<00:00,  4.09it/s]\n"
     ]
    },
    {
     "name": "stdout",
     "output_type": "stream",
     "text": [
      "Val_loss: 0.144202\n",
      "Epoch: 9 TrainLoss from train func: 0.14938 ValidLoss from train func: 0.14420 ACC: 0.90341 F1: 0.010\n"
     ]
    },
    {
     "name": "stderr",
     "output_type": "stream",
     "text": [
      "Iterating over train data: 100%|██████████████| 137/137 [00:32<00:00,  4.23it/s]\n"
     ]
    },
    {
     "name": "stdout",
     "output_type": "stream",
     "text": [
      "Train_loss: 0.149338\n"
     ]
    },
    {
     "name": "stderr",
     "output_type": "stream",
     "text": [
      "Iterating over evaluation data: 100%|███████████| 16/16 [00:03<00:00,  4.34it/s]\n"
     ]
    },
    {
     "name": "stdout",
     "output_type": "stream",
     "text": [
      "Val_loss: 0.144112\n",
      "Epoch: 10 TrainLoss from train func: 0.14934 ValidLoss from train func: 0.14411 ACC: 0.90336 F1: 0.010\n"
     ]
    },
    {
     "name": "stderr",
     "output_type": "stream",
     "text": [
      "Iterating over train data: 100%|██████████████| 137/137 [00:31<00:00,  4.33it/s]\n"
     ]
    },
    {
     "name": "stdout",
     "output_type": "stream",
     "text": [
      "Train_loss: 0.149345\n"
     ]
    },
    {
     "name": "stderr",
     "output_type": "stream",
     "text": [
      "Iterating over evaluation data: 100%|███████████| 16/16 [00:03<00:00,  4.42it/s]\n"
     ]
    },
    {
     "name": "stdout",
     "output_type": "stream",
     "text": [
      "Val_loss: 0.144388\n",
      "Epoch: 11 TrainLoss from train func: 0.14935 ValidLoss from train func: 0.14439 ACC: 0.90338 F1: 0.009\n"
     ]
    },
    {
     "name": "stderr",
     "output_type": "stream",
     "text": [
      "Iterating over train data: 100%|██████████████| 137/137 [00:32<00:00,  4.28it/s]\n"
     ]
    },
    {
     "name": "stdout",
     "output_type": "stream",
     "text": [
      "Train_loss: 0.149361\n"
     ]
    },
    {
     "name": "stderr",
     "output_type": "stream",
     "text": [
      "Iterating over evaluation data: 100%|███████████| 16/16 [00:03<00:00,  4.48it/s]\n"
     ]
    },
    {
     "name": "stdout",
     "output_type": "stream",
     "text": [
      "Val_loss: 0.144355\n",
      "Epoch: 12 TrainLoss from train func: 0.14936 ValidLoss from train func: 0.14435 ACC: 0.90342 F1: 0.011\n"
     ]
    },
    {
     "name": "stderr",
     "output_type": "stream",
     "text": [
      "Iterating over train data: 100%|██████████████| 137/137 [00:31<00:00,  4.35it/s]\n"
     ]
    },
    {
     "name": "stdout",
     "output_type": "stream",
     "text": [
      "Train_loss: 0.149337\n"
     ]
    },
    {
     "name": "stderr",
     "output_type": "stream",
     "text": [
      "Iterating over evaluation data: 100%|███████████| 16/16 [00:03<00:00,  4.52it/s]\n"
     ]
    },
    {
     "name": "stdout",
     "output_type": "stream",
     "text": [
      "Val_loss: 0.144282\n",
      "Epoch: 13 TrainLoss from train func: 0.14934 ValidLoss from train func: 0.14428 ACC: 0.90334 F1: 0.010\n"
     ]
    },
    {
     "name": "stderr",
     "output_type": "stream",
     "text": [
      "Iterating over train data: 100%|██████████████| 137/137 [00:31<00:00,  4.40it/s]\n"
     ]
    },
    {
     "name": "stdout",
     "output_type": "stream",
     "text": [
      "Train_loss: 0.149442\n"
     ]
    },
    {
     "name": "stderr",
     "output_type": "stream",
     "text": [
      "Iterating over evaluation data: 100%|███████████| 16/16 [00:03<00:00,  4.37it/s]\n"
     ]
    },
    {
     "name": "stdout",
     "output_type": "stream",
     "text": [
      "Val_loss: 0.144477\n",
      "Epoch: 14 TrainLoss from train func: 0.14944 ValidLoss from train func: 0.14448 ACC: 0.90342 F1: 0.010\n"
     ]
    },
    {
     "name": "stderr",
     "output_type": "stream",
     "text": [
      "Iterating over train data: 100%|██████████████| 137/137 [00:31<00:00,  4.38it/s]\n"
     ]
    },
    {
     "name": "stdout",
     "output_type": "stream",
     "text": [
      "Train_loss: 0.149314\n"
     ]
    },
    {
     "name": "stderr",
     "output_type": "stream",
     "text": [
      "Iterating over evaluation data: 100%|███████████| 16/16 [00:03<00:00,  4.54it/s]\n"
     ]
    },
    {
     "name": "stdout",
     "output_type": "stream",
     "text": [
      "Val_loss: 0.144285\n",
      "Epoch: 15 TrainLoss from train func: 0.14931 ValidLoss from train func: 0.14428 ACC: 0.90336 F1: 0.010\n"
     ]
    },
    {
     "name": "stderr",
     "output_type": "stream",
     "text": [
      "Iterating over train data: 100%|██████████████| 137/137 [00:31<00:00,  4.38it/s]\n"
     ]
    },
    {
     "name": "stdout",
     "output_type": "stream",
     "text": [
      "Train_loss: 0.149389\n"
     ]
    },
    {
     "name": "stderr",
     "output_type": "stream",
     "text": [
      "Iterating over evaluation data: 100%|███████████| 16/16 [00:03<00:00,  4.51it/s]\n"
     ]
    },
    {
     "name": "stdout",
     "output_type": "stream",
     "text": [
      "Val_loss: 0.144319\n",
      "Epoch: 16 TrainLoss from train func: 0.14939 ValidLoss from train func: 0.14432 ACC: 0.90339 F1: 0.009\n"
     ]
    },
    {
     "name": "stderr",
     "output_type": "stream",
     "text": [
      "Iterating over train data: 100%|██████████████| 137/137 [00:31<00:00,  4.34it/s]\n"
     ]
    },
    {
     "name": "stdout",
     "output_type": "stream",
     "text": [
      "Train_loss: 0.149367\n"
     ]
    },
    {
     "name": "stderr",
     "output_type": "stream",
     "text": [
      "Iterating over evaluation data: 100%|███████████| 16/16 [00:03<00:00,  4.41it/s]\n"
     ]
    },
    {
     "name": "stdout",
     "output_type": "stream",
     "text": [
      "Val_loss: 0.144191\n",
      "Epoch: 17 TrainLoss from train func: 0.14937 ValidLoss from train func: 0.14419 ACC: 0.90337 F1: 0.009\n"
     ]
    },
    {
     "name": "stderr",
     "output_type": "stream",
     "text": [
      "Iterating over train data: 100%|██████████████| 137/137 [00:32<00:00,  4.22it/s]\n"
     ]
    },
    {
     "name": "stdout",
     "output_type": "stream",
     "text": [
      "Train_loss: 0.149312\n"
     ]
    },
    {
     "name": "stderr",
     "output_type": "stream",
     "text": [
      "Iterating over evaluation data: 100%|███████████| 16/16 [00:03<00:00,  4.17it/s]\n"
     ]
    },
    {
     "name": "stdout",
     "output_type": "stream",
     "text": [
      "Val_loss: 0.144264\n",
      "Epoch: 18 TrainLoss from train func: 0.14931 ValidLoss from train func: 0.14426 ACC: 0.90334 F1: 0.010\n"
     ]
    },
    {
     "name": "stderr",
     "output_type": "stream",
     "text": [
      "Iterating over train data: 100%|██████████████| 137/137 [00:31<00:00,  4.30it/s]\n"
     ]
    },
    {
     "name": "stdout",
     "output_type": "stream",
     "text": [
      "Train_loss: 0.149341\n"
     ]
    },
    {
     "name": "stderr",
     "output_type": "stream",
     "text": [
      "Iterating over evaluation data: 100%|███████████| 16/16 [00:03<00:00,  4.48it/s]\n"
     ]
    },
    {
     "name": "stdout",
     "output_type": "stream",
     "text": [
      "Val_loss: 0.144480\n",
      "Epoch: 19 TrainLoss from train func: 0.14934 ValidLoss from train func: 0.14448 ACC: 0.90343 F1: 0.011\n"
     ]
    },
    {
     "name": "stderr",
     "output_type": "stream",
     "text": [
      "Iterating over train data: 100%|██████████████| 137/137 [00:31<00:00,  4.40it/s]\n"
     ]
    },
    {
     "name": "stdout",
     "output_type": "stream",
     "text": [
      "Train_loss: 0.149248\n"
     ]
    },
    {
     "name": "stderr",
     "output_type": "stream",
     "text": [
      "Iterating over evaluation data: 100%|███████████| 16/16 [00:03<00:00,  4.65it/s]\n"
     ]
    },
    {
     "name": "stdout",
     "output_type": "stream",
     "text": [
      "Val_loss: 0.144241\n",
      "Epoch: 20 TrainLoss from train func: 0.14925 ValidLoss from train func: 0.14424 ACC: 0.90338 F1: 0.010\n"
     ]
    },
    {
     "name": "stderr",
     "output_type": "stream",
     "text": [
      "Iterating over train data: 100%|██████████████| 137/137 [00:31<00:00,  4.37it/s]\n"
     ]
    },
    {
     "name": "stdout",
     "output_type": "stream",
     "text": [
      "Train_loss: 0.149316\n"
     ]
    },
    {
     "name": "stderr",
     "output_type": "stream",
     "text": [
      "Iterating over evaluation data: 100%|███████████| 16/16 [00:03<00:00,  4.56it/s]\n"
     ]
    },
    {
     "name": "stdout",
     "output_type": "stream",
     "text": [
      "Val_loss: 0.143995\n",
      "Epoch: 21 TrainLoss from train func: 0.14932 ValidLoss from train func: 0.14399 ACC: 0.90339 F1: 0.010\n"
     ]
    },
    {
     "name": "stderr",
     "output_type": "stream",
     "text": [
      "Iterating over train data: 100%|██████████████| 137/137 [00:31<00:00,  4.35it/s]\n"
     ]
    },
    {
     "name": "stdout",
     "output_type": "stream",
     "text": [
      "Train_loss: 0.149333\n"
     ]
    },
    {
     "name": "stderr",
     "output_type": "stream",
     "text": [
      "Iterating over evaluation data: 100%|███████████| 16/16 [00:03<00:00,  4.39it/s]\n"
     ]
    },
    {
     "name": "stdout",
     "output_type": "stream",
     "text": [
      "Val_loss: 0.144105\n",
      "Epoch: 22 TrainLoss from train func: 0.14933 ValidLoss from train func: 0.14411 ACC: 0.90338 F1: 0.010\n"
     ]
    },
    {
     "name": "stderr",
     "output_type": "stream",
     "text": [
      "Iterating over train data: 100%|██████████████| 137/137 [00:31<00:00,  4.36it/s]\n"
     ]
    },
    {
     "name": "stdout",
     "output_type": "stream",
     "text": [
      "Train_loss: 0.149411\n"
     ]
    },
    {
     "name": "stderr",
     "output_type": "stream",
     "text": [
      "Iterating over evaluation data: 100%|███████████| 16/16 [00:03<00:00,  4.57it/s]\n"
     ]
    },
    {
     "name": "stdout",
     "output_type": "stream",
     "text": [
      "Val_loss: 0.144520\n",
      "Epoch: 23 TrainLoss from train func: 0.14941 ValidLoss from train func: 0.14452 ACC: 0.90340 F1: 0.011\n"
     ]
    },
    {
     "name": "stderr",
     "output_type": "stream",
     "text": [
      "Iterating over train data: 100%|██████████████| 137/137 [00:31<00:00,  4.40it/s]\n"
     ]
    },
    {
     "name": "stdout",
     "output_type": "stream",
     "text": [
      "Train_loss: 0.149276\n"
     ]
    },
    {
     "name": "stderr",
     "output_type": "stream",
     "text": [
      "Iterating over evaluation data: 100%|███████████| 16/16 [00:03<00:00,  4.54it/s]\n"
     ]
    },
    {
     "name": "stdout",
     "output_type": "stream",
     "text": [
      "Val_loss: 0.144100\n",
      "Epoch: 24 TrainLoss from train func: 0.14928 ValidLoss from train func: 0.14410 ACC: 0.90335 F1: 0.009\n"
     ]
    },
    {
     "name": "stderr",
     "output_type": "stream",
     "text": [
      "Iterating over train data: 100%|██████████████| 137/137 [00:31<00:00,  4.33it/s]\n"
     ]
    },
    {
     "name": "stdout",
     "output_type": "stream",
     "text": [
      "Train_loss: 0.149246\n"
     ]
    },
    {
     "name": "stderr",
     "output_type": "stream",
     "text": [
      "Iterating over evaluation data: 100%|███████████| 16/16 [00:03<00:00,  4.41it/s]\n"
     ]
    },
    {
     "name": "stdout",
     "output_type": "stream",
     "text": [
      "Val_loss: 0.144253\n",
      "Epoch: 25 TrainLoss from train func: 0.14925 ValidLoss from train func: 0.14425 ACC: 0.90340 F1: 0.011\n"
     ]
    },
    {
     "name": "stderr",
     "output_type": "stream",
     "text": [
      "Iterating over train data: 100%|██████████████| 137/137 [00:31<00:00,  4.35it/s]\n"
     ]
    },
    {
     "name": "stdout",
     "output_type": "stream",
     "text": [
      "Train_loss: 0.149310\n"
     ]
    },
    {
     "name": "stderr",
     "output_type": "stream",
     "text": [
      "Iterating over evaluation data: 100%|███████████| 16/16 [00:03<00:00,  4.53it/s]\n"
     ]
    },
    {
     "name": "stdout",
     "output_type": "stream",
     "text": [
      "Val_loss: 0.144173\n",
      "Epoch: 26 TrainLoss from train func: 0.14931 ValidLoss from train func: 0.14417 ACC: 0.90341 F1: 0.010\n"
     ]
    },
    {
     "name": "stderr",
     "output_type": "stream",
     "text": [
      "Iterating over train data: 100%|██████████████| 137/137 [00:32<00:00,  4.23it/s]\n"
     ]
    },
    {
     "name": "stdout",
     "output_type": "stream",
     "text": [
      "Train_loss: 0.149225\n"
     ]
    },
    {
     "name": "stderr",
     "output_type": "stream",
     "text": [
      "Iterating over evaluation data: 100%|███████████| 16/16 [00:03<00:00,  4.43it/s]\n"
     ]
    },
    {
     "name": "stdout",
     "output_type": "stream",
     "text": [
      "Val_loss: 0.144322\n",
      "Epoch: 27 TrainLoss from train func: 0.14922 ValidLoss from train func: 0.14432 ACC: 0.90340 F1: 0.010\n"
     ]
    },
    {
     "name": "stderr",
     "output_type": "stream",
     "text": [
      "Iterating over train data: 100%|██████████████| 137/137 [00:32<00:00,  4.26it/s]\n"
     ]
    },
    {
     "name": "stdout",
     "output_type": "stream",
     "text": [
      "Train_loss: 0.149303\n"
     ]
    },
    {
     "name": "stderr",
     "output_type": "stream",
     "text": [
      "Iterating over evaluation data: 100%|███████████| 16/16 [00:03<00:00,  4.12it/s]\n"
     ]
    },
    {
     "name": "stdout",
     "output_type": "stream",
     "text": [
      "Val_loss: 0.144269\n",
      "Epoch: 28 TrainLoss from train func: 0.14930 ValidLoss from train func: 0.14427 ACC: 0.90344 F1: 0.011\n"
     ]
    },
    {
     "name": "stderr",
     "output_type": "stream",
     "text": [
      "Iterating over train data: 100%|██████████████| 137/137 [00:31<00:00,  4.30it/s]\n"
     ]
    },
    {
     "name": "stdout",
     "output_type": "stream",
     "text": [
      "Train_loss: 0.149261\n"
     ]
    },
    {
     "name": "stderr",
     "output_type": "stream",
     "text": [
      "Iterating over evaluation data: 100%|███████████| 16/16 [00:03<00:00,  4.31it/s]\n"
     ]
    },
    {
     "name": "stdout",
     "output_type": "stream",
     "text": [
      "Val_loss: 0.144009\n",
      "Epoch: 29 TrainLoss from train func: 0.14926 ValidLoss from train func: 0.14401 ACC: 0.90337 F1: 0.009\n"
     ]
    },
    {
     "name": "stderr",
     "output_type": "stream",
     "text": [
      "Iterating over train data: 100%|██████████████| 137/137 [00:32<00:00,  4.24it/s]\n"
     ]
    },
    {
     "name": "stdout",
     "output_type": "stream",
     "text": [
      "Train_loss: 0.149365\n"
     ]
    },
    {
     "name": "stderr",
     "output_type": "stream",
     "text": [
      "Iterating over evaluation data: 100%|███████████| 16/16 [00:03<00:00,  4.27it/s]"
     ]
    },
    {
     "name": "stdout",
     "output_type": "stream",
     "text": [
      "Val_loss: 0.144276\n",
      "Epoch: 30 TrainLoss from train func: 0.14937 ValidLoss from train func: 0.14428 ACC: 0.90341 F1: 0.009\n"
     ]
    },
    {
     "name": "stderr",
     "output_type": "stream",
     "text": [
      "\n"
     ]
    }
   ],
   "source": [
    "history = train(model,optim,dice_loss,dl_train,dl_test,epochs=max_epochs, vis=False)"
   ]
  },
  {
   "cell_type": "code",
   "execution_count": 29,
   "id": "91e3d485",
   "metadata": {},
   "outputs": [],
   "source": [
    "def plot_loss_acc(history):\n",
    "    \"\"\"Print Loss in train and val sets\"\"\"\n",
    "    train_loss, val_loss, val_acc = zip(*history)\n",
    "\n",
    "    fig, (ax1, ax2) = plt.subplots(2, figsize=(10,10))\n",
    "    fig.suptitle('Loss and Accuracy')\n",
    "    ax1.plot(train_loss, label=\"train_loss\")\n",
    "    ax1.plot(val_loss, label=\"val_loss\")\n",
    "    ax1.legend(loc='best')\n",
    "    plt.ylabel(\"loss\")\n",
    "\n",
    "    #ax2.plot(acc, label=\"train_accuracy\")\n",
    "    ax2.plot(val_acc, label=\"val_accuracy\")\n",
    "    ax2.legend(loc='best')\n",
    "    plt.xlabel(\"epochs\")\n",
    "    plt.ylabel(\"accuracy\")\n",
    "    plt.show()"
   ]
  },
  {
   "cell_type": "code",
   "execution_count": 33,
   "id": "5a8d58a9",
   "metadata": {},
   "outputs": [
    {
     "data": {
      "image/png": "[encoded data removed]",
      "text/plain": [
       "<Figure size 720x720 with 2 Axes>"
      ]
     },
     "metadata": {
      "needs_background": "dark"
     },
     "output_type": "display_data"
    }
   ],
   "source": [
    "plot_loss_acc(history)"
   ]
  },
  {
   "cell_type": "code",
   "execution_count": 34,
   "id": "769bb390",
   "metadata": {},
   "outputs": [],
   "source": [
    "import segmentation_models_pytorch as smp\n",
    "from Losses import ComboLoss, dice_metric"
   ]
  },
  {
   "cell_type": "code",
   "execution_count": 35,
   "id": "28fbb4dd",
   "metadata": {},
   "outputs": [],
   "source": [
    "ENCODER          = 'se_resnext50_32x4d'\n",
    "ENCODER_WEIGHTS  = 'imagenet'\n",
    "CLASSES          = ['mask']\n",
    "ACTIVATION       = None\n",
    "CRITERION        = ComboLoss(**{'weights':{'bce':1, 'dice':3, 'focal':4}})"
   ]
  },
  {
   "cell_type": "code",
   "execution_count": 36,
   "id": "8424f958",
   "metadata": {},
   "outputs": [],
   "source": [
    "model = smp.Unet(\n",
    "    encoder_name=ENCODER, \n",
    "    encoder_weights=ENCODER_WEIGHTS, \n",
    "    classes=len(CLASSES), \n",
    "    activation=ACTIVATION,\n",
    ")"
   ]
  },
  {
   "cell_type": "code",
   "execution_count": 37,
   "id": "e73ff2e6",
   "metadata": {},
   "outputs": [],
   "source": [
    "model = model.to(device)"
   ]
  },
  {
   "cell_type": "code",
   "execution_count": 38,
   "id": "8ca1cd95",
   "metadata": {},
   "outputs": [],
   "source": [
    "max_epochs = 30\n",
    "optim = torch.optim.Adam(model.parameters(), lr=1e-3)"
   ]
  },
  {
   "cell_type": "code",
   "execution_count": 39,
   "id": "3ae1c1cb",
   "metadata": {},
   "outputs": [
    {
     "name": "stderr",
     "output_type": "stream",
     "text": [
      "Iterating over train data: 100%|██████████████| 137/137 [00:25<00:00,  5.38it/s]\n"
     ]
    },
    {
     "name": "stdout",
     "output_type": "stream",
     "text": [
      "Train_loss: 3.776147\n"
     ]
    },
    {
     "name": "stderr",
     "output_type": "stream",
     "text": [
      "Iterating over evaluation data: 100%|███████████| 16/16 [00:03<00:00,  4.70it/s]\n"
     ]
    },
    {
     "name": "stdout",
     "output_type": "stream",
     "text": [
      "Val_loss: 3.764944\n",
      "Epoch: 1 TrainLoss from train func: 3.77615 ValidLoss from train func: 3.76494 ACC: 0.82891 F1: 0.083\n"
     ]
    },
    {
     "name": "stderr",
     "output_type": "stream",
     "text": [
      "Iterating over train data: 100%|██████████████| 137/137 [00:25<00:00,  5.35it/s]\n"
     ]
    },
    {
     "name": "stdout",
     "output_type": "stream",
     "text": [
      "Train_loss: 3.776280\n"
     ]
    },
    {
     "name": "stderr",
     "output_type": "stream",
     "text": [
      "Iterating over evaluation data: 100%|███████████| 16/16 [00:03<00:00,  4.61it/s]\n"
     ]
    },
    {
     "name": "stdout",
     "output_type": "stream",
     "text": [
      "Val_loss: 3.763982\n",
      "Epoch: 2 TrainLoss from train func: 3.77628 ValidLoss from train func: 3.76398 ACC: 0.82856 F1: 0.082\n"
     ]
    },
    {
     "name": "stderr",
     "output_type": "stream",
     "text": [
      "Iterating over train data: 100%|██████████████| 137/137 [00:25<00:00,  5.38it/s]\n"
     ]
    },
    {
     "name": "stdout",
     "output_type": "stream",
     "text": [
      "Train_loss: 3.777296\n"
     ]
    },
    {
     "name": "stderr",
     "output_type": "stream",
     "text": [
      "Iterating over evaluation data: 100%|███████████| 16/16 [00:03<00:00,  4.54it/s]\n"
     ]
    },
    {
     "name": "stdout",
     "output_type": "stream",
     "text": [
      "Val_loss: 3.762277\n",
      "Epoch: 3 TrainLoss from train func: 3.77730 ValidLoss from train func: 3.76228 ACC: 0.82896 F1: 0.083\n"
     ]
    },
    {
     "name": "stderr",
     "output_type": "stream",
     "text": [
      "Iterating over train data: 100%|██████████████| 137/137 [00:25<00:00,  5.44it/s]\n"
     ]
    },
    {
     "name": "stdout",
     "output_type": "stream",
     "text": [
      "Train_loss: 3.777077\n"
     ]
    },
    {
     "name": "stderr",
     "output_type": "stream",
     "text": [
      "Iterating over evaluation data: 100%|███████████| 16/16 [00:03<00:00,  4.39it/s]\n"
     ]
    },
    {
     "name": "stdout",
     "output_type": "stream",
     "text": [
      "Val_loss: 3.766741\n",
      "Epoch: 4 TrainLoss from train func: 3.77708 ValidLoss from train func: 3.76674 ACC: 0.82813 F1: 0.084\n"
     ]
    },
    {
     "name": "stderr",
     "output_type": "stream",
     "text": [
      "Iterating over train data: 100%|██████████████| 137/137 [00:26<00:00,  5.15it/s]\n"
     ]
    },
    {
     "name": "stdout",
     "output_type": "stream",
     "text": [
      "Train_loss: 3.776804\n"
     ]
    },
    {
     "name": "stderr",
     "output_type": "stream",
     "text": [
      "Iterating over evaluation data: 100%|███████████| 16/16 [00:03<00:00,  4.51it/s]\n"
     ]
    },
    {
     "name": "stdout",
     "output_type": "stream",
     "text": [
      "Val_loss: 3.765082\n",
      "Epoch: 5 TrainLoss from train func: 3.77680 ValidLoss from train func: 3.76508 ACC: 0.82817 F1: 0.082\n"
     ]
    },
    {
     "name": "stderr",
     "output_type": "stream",
     "text": [
      "Iterating over train data: 100%|██████████████| 137/137 [00:25<00:00,  5.28it/s]\n"
     ]
    },
    {
     "name": "stdout",
     "output_type": "stream",
     "text": [
      "Train_loss: 3.776262\n"
     ]
    },
    {
     "name": "stderr",
     "output_type": "stream",
     "text": [
      "Iterating over evaluation data: 100%|███████████| 16/16 [00:03<00:00,  4.32it/s]\n"
     ]
    },
    {
     "name": "stdout",
     "output_type": "stream",
     "text": [
      "Val_loss: 3.764200\n",
      "Epoch: 6 TrainLoss from train func: 3.77626 ValidLoss from train func: 3.76420 ACC: 0.82846 F1: 0.083\n"
     ]
    },
    {
     "name": "stderr",
     "output_type": "stream",
     "text": [
      "Iterating over train data: 100%|██████████████| 137/137 [00:26<00:00,  5.25it/s]\n"
     ]
    },
    {
     "name": "stdout",
     "output_type": "stream",
     "text": [
      "Train_loss: 3.775298\n"
     ]
    },
    {
     "name": "stderr",
     "output_type": "stream",
     "text": [
      "Iterating over evaluation data: 100%|███████████| 16/16 [00:03<00:00,  4.43it/s]\n"
     ]
    },
    {
     "name": "stdout",
     "output_type": "stream",
     "text": [
      "Val_loss: 3.764012\n",
      "Epoch: 7 TrainLoss from train func: 3.77530 ValidLoss from train func: 3.76401 ACC: 0.82882 F1: 0.082\n"
     ]
    },
    {
     "name": "stderr",
     "output_type": "stream",
     "text": [
      "Iterating over train data: 100%|██████████████| 137/137 [00:26<00:00,  5.23it/s]\n"
     ]
    },
    {
     "name": "stdout",
     "output_type": "stream",
     "text": [
      "Train_loss: 3.776602\n"
     ]
    },
    {
     "name": "stderr",
     "output_type": "stream",
     "text": [
      "Iterating over evaluation data: 100%|███████████| 16/16 [00:03<00:00,  4.37it/s]\n"
     ]
    },
    {
     "name": "stdout",
     "output_type": "stream",
     "text": [
      "Val_loss: 3.761665\n",
      "Epoch: 8 TrainLoss from train func: 3.77660 ValidLoss from train func: 3.76166 ACC: 0.82879 F1: 0.082\n"
     ]
    },
    {
     "name": "stderr",
     "output_type": "stream",
     "text": [
      "Iterating over train data: 100%|██████████████| 137/137 [00:26<00:00,  5.25it/s]\n"
     ]
    },
    {
     "name": "stdout",
     "output_type": "stream",
     "text": [
      "Train_loss: 3.776953\n"
     ]
    },
    {
     "name": "stderr",
     "output_type": "stream",
     "text": [
      "Iterating over evaluation data: 100%|███████████| 16/16 [00:03<00:00,  4.28it/s]\n"
     ]
    },
    {
     "name": "stdout",
     "output_type": "stream",
     "text": [
      "Val_loss: 3.762772\n",
      "Epoch: 9 TrainLoss from train func: 3.77695 ValidLoss from train func: 3.76277 ACC: 0.82877 F1: 0.083\n"
     ]
    },
    {
     "name": "stderr",
     "output_type": "stream",
     "text": [
      "Iterating over train data: 100%|██████████████| 137/137 [00:26<00:00,  5.23it/s]\n"
     ]
    },
    {
     "name": "stdout",
     "output_type": "stream",
     "text": [
      "Train_loss: 3.778030\n"
     ]
    },
    {
     "name": "stderr",
     "output_type": "stream",
     "text": [
      "Iterating over evaluation data: 100%|███████████| 16/16 [00:03<00:00,  4.39it/s]\n"
     ]
    },
    {
     "name": "stdout",
     "output_type": "stream",
     "text": [
      "Val_loss: 3.759550\n",
      "Epoch: 10 TrainLoss from train func: 3.77803 ValidLoss from train func: 3.75955 ACC: 0.82894 F1: 0.083\n"
     ]
    },
    {
     "name": "stderr",
     "output_type": "stream",
     "text": [
      "Iterating over train data: 100%|██████████████| 137/137 [00:25<00:00,  5.30it/s]\n"
     ]
    },
    {
     "name": "stdout",
     "output_type": "stream",
     "text": [
      "Train_loss: 3.777065\n"
     ]
    },
    {
     "name": "stderr",
     "output_type": "stream",
     "text": [
      "Iterating over evaluation data: 100%|███████████| 16/16 [00:03<00:00,  4.48it/s]\n"
     ]
    },
    {
     "name": "stdout",
     "output_type": "stream",
     "text": [
      "Val_loss: 3.764990\n",
      "Epoch: 11 TrainLoss from train func: 3.77706 ValidLoss from train func: 3.76499 ACC: 0.82871 F1: 0.083\n"
     ]
    },
    {
     "name": "stderr",
     "output_type": "stream",
     "text": [
      "Iterating over train data: 100%|██████████████| 137/137 [00:25<00:00,  5.30it/s]\n"
     ]
    },
    {
     "name": "stdout",
     "output_type": "stream",
     "text": [
      "Train_loss: 3.778248\n"
     ]
    },
    {
     "name": "stderr",
     "output_type": "stream",
     "text": [
      "Iterating over evaluation data: 100%|███████████| 16/16 [00:03<00:00,  4.41it/s]\n"
     ]
    },
    {
     "name": "stdout",
     "output_type": "stream",
     "text": [
      "Val_loss: 3.757479\n",
      "Epoch: 12 TrainLoss from train func: 3.77825 ValidLoss from train func: 3.75748 ACC: 0.82929 F1: 0.083\n"
     ]
    },
    {
     "name": "stderr",
     "output_type": "stream",
     "text": [
      "Iterating over train data: 100%|██████████████| 137/137 [00:25<00:00,  5.29it/s]\n"
     ]
    },
    {
     "name": "stdout",
     "output_type": "stream",
     "text": [
      "Train_loss: 3.776272\n"
     ]
    },
    {
     "name": "stderr",
     "output_type": "stream",
     "text": [
      "Iterating over evaluation data: 100%|███████████| 16/16 [00:03<00:00,  4.43it/s]\n"
     ]
    },
    {
     "name": "stdout",
     "output_type": "stream",
     "text": [
      "Val_loss: 3.760625\n",
      "Epoch: 13 TrainLoss from train func: 3.77627 ValidLoss from train func: 3.76062 ACC: 0.82900 F1: 0.083\n"
     ]
    },
    {
     "name": "stderr",
     "output_type": "stream",
     "text": [
      "Iterating over train data: 100%|██████████████| 137/137 [00:26<00:00,  5.25it/s]\n"
     ]
    },
    {
     "name": "stdout",
     "output_type": "stream",
     "text": [
      "Train_loss: 3.776159\n"
     ]
    },
    {
     "name": "stderr",
     "output_type": "stream",
     "text": [
      "Iterating over evaluation data: 100%|███████████| 16/16 [00:03<00:00,  4.47it/s]\n"
     ]
    },
    {
     "name": "stdout",
     "output_type": "stream",
     "text": [
      "Val_loss: 3.767315\n",
      "Epoch: 14 TrainLoss from train func: 3.77616 ValidLoss from train func: 3.76731 ACC: 0.82840 F1: 0.083\n"
     ]
    },
    {
     "name": "stderr",
     "output_type": "stream",
     "text": [
      "Iterating over train data: 100%|██████████████| 137/137 [00:26<00:00,  5.22it/s]\n"
     ]
    },
    {
     "name": "stdout",
     "output_type": "stream",
     "text": [
      "Train_loss: 3.776651\n"
     ]
    },
    {
     "name": "stderr",
     "output_type": "stream",
     "text": [
      "Iterating over evaluation data: 100%|███████████| 16/16 [00:03<00:00,  4.38it/s]\n"
     ]
    },
    {
     "name": "stdout",
     "output_type": "stream",
     "text": [
      "Val_loss: 3.757785\n",
      "Epoch: 15 TrainLoss from train func: 3.77665 ValidLoss from train func: 3.75778 ACC: 0.82931 F1: 0.083\n"
     ]
    },
    {
     "name": "stderr",
     "output_type": "stream",
     "text": [
      "Iterating over train data: 100%|██████████████| 137/137 [00:26<00:00,  5.23it/s]\n"
     ]
    },
    {
     "name": "stdout",
     "output_type": "stream",
     "text": [
      "Train_loss: 3.777538\n"
     ]
    },
    {
     "name": "stderr",
     "output_type": "stream",
     "text": [
      "Iterating over evaluation data: 100%|███████████| 16/16 [00:03<00:00,  4.31it/s]\n"
     ]
    },
    {
     "name": "stdout",
     "output_type": "stream",
     "text": [
      "Val_loss: 3.767092\n",
      "Epoch: 16 TrainLoss from train func: 3.77754 ValidLoss from train func: 3.76709 ACC: 0.82856 F1: 0.082\n"
     ]
    },
    {
     "name": "stderr",
     "output_type": "stream",
     "text": [
      "Iterating over train data: 100%|██████████████| 137/137 [00:26<00:00,  5.24it/s]\n"
     ]
    },
    {
     "name": "stdout",
     "output_type": "stream",
     "text": [
      "Train_loss: 3.777011\n"
     ]
    },
    {
     "name": "stderr",
     "output_type": "stream",
     "text": [
      "Iterating over evaluation data: 100%|███████████| 16/16 [00:03<00:00,  4.41it/s]\n"
     ]
    },
    {
     "name": "stdout",
     "output_type": "stream",
     "text": [
      "Val_loss: 3.764525\n",
      "Epoch: 17 TrainLoss from train func: 3.77701 ValidLoss from train func: 3.76453 ACC: 0.82812 F1: 0.082\n"
     ]
    },
    {
     "name": "stderr",
     "output_type": "stream",
     "text": [
      "Iterating over train data: 100%|██████████████| 137/137 [00:26<00:00,  5.25it/s]\n"
     ]
    },
    {
     "name": "stdout",
     "output_type": "stream",
     "text": [
      "Train_loss: 3.777110\n"
     ]
    },
    {
     "name": "stderr",
     "output_type": "stream",
     "text": [
      "Iterating over evaluation data: 100%|███████████| 16/16 [00:03<00:00,  4.33it/s]\n"
     ]
    },
    {
     "name": "stdout",
     "output_type": "stream",
     "text": [
      "Val_loss: 3.759504\n",
      "Epoch: 18 TrainLoss from train func: 3.77711 ValidLoss from train func: 3.75950 ACC: 0.82898 F1: 0.083\n"
     ]
    },
    {
     "name": "stderr",
     "output_type": "stream",
     "text": [
      "Iterating over train data: 100%|██████████████| 137/137 [00:26<00:00,  5.26it/s]\n"
     ]
    },
    {
     "name": "stdout",
     "output_type": "stream",
     "text": [
      "Train_loss: 3.775989\n"
     ]
    },
    {
     "name": "stderr",
     "output_type": "stream",
     "text": [
      "Iterating over evaluation data: 100%|███████████| 16/16 [00:03<00:00,  4.44it/s]\n"
     ]
    },
    {
     "name": "stdout",
     "output_type": "stream",
     "text": [
      "Val_loss: 3.761465\n",
      "Epoch: 19 TrainLoss from train func: 3.77599 ValidLoss from train func: 3.76147 ACC: 0.82843 F1: 0.083\n"
     ]
    },
    {
     "name": "stderr",
     "output_type": "stream",
     "text": [
      "Iterating over train data: 100%|██████████████| 137/137 [00:25<00:00,  5.28it/s]\n"
     ]
    },
    {
     "name": "stdout",
     "output_type": "stream",
     "text": [
      "Train_loss: 3.776653\n"
     ]
    },
    {
     "name": "stderr",
     "output_type": "stream",
     "text": [
      "Iterating over evaluation data: 100%|███████████| 16/16 [00:03<00:00,  4.38it/s]\n"
     ]
    },
    {
     "name": "stdout",
     "output_type": "stream",
     "text": [
      "Val_loss: 3.764159\n",
      "Epoch: 20 TrainLoss from train func: 3.77665 ValidLoss from train func: 3.76416 ACC: 0.82828 F1: 0.082\n"
     ]
    },
    {
     "name": "stderr",
     "output_type": "stream",
     "text": [
      "Iterating over train data: 100%|██████████████| 137/137 [00:25<00:00,  5.31it/s]\n"
     ]
    },
    {
     "name": "stdout",
     "output_type": "stream",
     "text": [
      "Train_loss: 3.778436\n"
     ]
    },
    {
     "name": "stderr",
     "output_type": "stream",
     "text": [
      "Iterating over evaluation data: 100%|███████████| 16/16 [00:03<00:00,  4.30it/s]\n"
     ]
    },
    {
     "name": "stdout",
     "output_type": "stream",
     "text": [
      "Val_loss: 3.765900\n",
      "Epoch: 21 TrainLoss from train func: 3.77844 ValidLoss from train func: 3.76590 ACC: 0.82833 F1: 0.082\n"
     ]
    },
    {
     "name": "stderr",
     "output_type": "stream",
     "text": [
      "Iterating over train data: 100%|██████████████| 137/137 [00:25<00:00,  5.31it/s]\n"
     ]
    },
    {
     "name": "stdout",
     "output_type": "stream",
     "text": [
      "Train_loss: 3.776568\n"
     ]
    },
    {
     "name": "stderr",
     "output_type": "stream",
     "text": [
      "Iterating over evaluation data: 100%|███████████| 16/16 [00:03<00:00,  4.29it/s]\n"
     ]
    },
    {
     "name": "stdout",
     "output_type": "stream",
     "text": [
      "Val_loss: 3.764792\n",
      "Epoch: 22 TrainLoss from train func: 3.77657 ValidLoss from train func: 3.76479 ACC: 0.82830 F1: 0.082\n"
     ]
    },
    {
     "name": "stderr",
     "output_type": "stream",
     "text": [
      "Iterating over train data: 100%|██████████████| 137/137 [00:26<00:00,  5.10it/s]\n"
     ]
    },
    {
     "name": "stdout",
     "output_type": "stream",
     "text": [
      "Train_loss: 3.776098\n"
     ]
    },
    {
     "name": "stderr",
     "output_type": "stream",
     "text": [
      "Iterating over evaluation data: 100%|███████████| 16/16 [00:03<00:00,  4.08it/s]\n"
     ]
    },
    {
     "name": "stdout",
     "output_type": "stream",
     "text": [
      "Val_loss: 3.762786\n",
      "Epoch: 23 TrainLoss from train func: 3.77610 ValidLoss from train func: 3.76279 ACC: 0.82901 F1: 0.083\n"
     ]
    },
    {
     "name": "stderr",
     "output_type": "stream",
     "text": [
      "Iterating over train data: 100%|██████████████| 137/137 [00:26<00:00,  5.10it/s]\n"
     ]
    },
    {
     "name": "stdout",
     "output_type": "stream",
     "text": [
      "Train_loss: 3.776021\n"
     ]
    },
    {
     "name": "stderr",
     "output_type": "stream",
     "text": [
      "Iterating over evaluation data: 100%|███████████| 16/16 [00:03<00:00,  4.20it/s]\n"
     ]
    },
    {
     "name": "stdout",
     "output_type": "stream",
     "text": [
      "Val_loss: 3.763501\n",
      "Epoch: 24 TrainLoss from train func: 3.77602 ValidLoss from train func: 3.76350 ACC: 0.82854 F1: 0.083\n"
     ]
    },
    {
     "name": "stderr",
     "output_type": "stream",
     "text": [
      "Iterating over train data: 100%|██████████████| 137/137 [00:26<00:00,  5.10it/s]\n"
     ]
    },
    {
     "name": "stdout",
     "output_type": "stream",
     "text": [
      "Train_loss: 3.776334\n"
     ]
    },
    {
     "name": "stderr",
     "output_type": "stream",
     "text": [
      "Iterating over evaluation data: 100%|███████████| 16/16 [00:03<00:00,  4.15it/s]\n"
     ]
    },
    {
     "name": "stdout",
     "output_type": "stream",
     "text": [
      "Val_loss: 3.768808\n",
      "Epoch: 25 TrainLoss from train func: 3.77633 ValidLoss from train func: 3.76881 ACC: 0.82812 F1: 0.082\n"
     ]
    },
    {
     "name": "stderr",
     "output_type": "stream",
     "text": [
      "Iterating over train data: 100%|██████████████| 137/137 [00:26<00:00,  5.10it/s]\n"
     ]
    },
    {
     "name": "stdout",
     "output_type": "stream",
     "text": [
      "Train_loss: 3.776920\n"
     ]
    },
    {
     "name": "stderr",
     "output_type": "stream",
     "text": [
      "Iterating over evaluation data: 100%|███████████| 16/16 [00:03<00:00,  4.26it/s]\n"
     ]
    },
    {
     "name": "stdout",
     "output_type": "stream",
     "text": [
      "Val_loss: 3.767027\n",
      "Epoch: 26 TrainLoss from train func: 3.77692 ValidLoss from train func: 3.76703 ACC: 0.82845 F1: 0.081\n"
     ]
    },
    {
     "name": "stderr",
     "output_type": "stream",
     "text": [
      "Iterating over train data: 100%|██████████████| 137/137 [00:26<00:00,  5.11it/s]\n"
     ]
    },
    {
     "name": "stdout",
     "output_type": "stream",
     "text": [
      "Train_loss: 3.777854\n"
     ]
    },
    {
     "name": "stderr",
     "output_type": "stream",
     "text": [
      "Iterating over evaluation data: 100%|███████████| 16/16 [00:03<00:00,  4.14it/s]\n"
     ]
    },
    {
     "name": "stdout",
     "output_type": "stream",
     "text": [
      "Val_loss: 3.761928\n",
      "Epoch: 27 TrainLoss from train func: 3.77785 ValidLoss from train func: 3.76193 ACC: 0.82850 F1: 0.083\n"
     ]
    },
    {
     "name": "stderr",
     "output_type": "stream",
     "text": [
      "Iterating over train data: 100%|██████████████| 137/137 [00:26<00:00,  5.15it/s]\n"
     ]
    },
    {
     "name": "stdout",
     "output_type": "stream",
     "text": [
      "Train_loss: 3.777350\n"
     ]
    },
    {
     "name": "stderr",
     "output_type": "stream",
     "text": [
      "Iterating over evaluation data: 100%|███████████| 16/16 [00:03<00:00,  4.10it/s]\n"
     ]
    },
    {
     "name": "stdout",
     "output_type": "stream",
     "text": [
      "Val_loss: 3.759998\n",
      "Epoch: 28 TrainLoss from train func: 3.77735 ValidLoss from train func: 3.76000 ACC: 0.82874 F1: 0.082\n"
     ]
    },
    {
     "name": "stderr",
     "output_type": "stream",
     "text": [
      "Iterating over train data: 100%|██████████████| 137/137 [00:26<00:00,  5.14it/s]\n"
     ]
    },
    {
     "name": "stdout",
     "output_type": "stream",
     "text": [
      "Train_loss: 3.777072\n"
     ]
    },
    {
     "name": "stderr",
     "output_type": "stream",
     "text": [
      "Iterating over evaluation data: 100%|███████████| 16/16 [00:03<00:00,  4.22it/s]\n"
     ]
    },
    {
     "name": "stdout",
     "output_type": "stream",
     "text": [
      "Val_loss: 3.768941\n",
      "Epoch: 29 TrainLoss from train func: 3.77707 ValidLoss from train func: 3.76894 ACC: 0.82786 F1: 0.083\n"
     ]
    },
    {
     "name": "stderr",
     "output_type": "stream",
     "text": [
      "Iterating over train data: 100%|██████████████| 137/137 [00:26<00:00,  5.15it/s]\n"
     ]
    },
    {
     "name": "stdout",
     "output_type": "stream",
     "text": [
      "Train_loss: 3.776945\n"
     ]
    },
    {
     "name": "stderr",
     "output_type": "stream",
     "text": [
      "Iterating over evaluation data: 100%|███████████| 16/16 [00:03<00:00,  4.21it/s]"
     ]
    },
    {
     "name": "stdout",
     "output_type": "stream",
     "text": [
      "Val_loss: 3.763921\n",
      "Epoch: 30 TrainLoss from train func: 3.77695 ValidLoss from train func: 3.76392 ACC: 0.82891 F1: 0.083\n"
     ]
    },
    {
     "name": "stderr",
     "output_type": "stream",
     "text": [
      "\n"
     ]
    }
   ],
   "source": [
    "history = train(model,optim,CRITERION,dl_train,dl_test,epochs=max_epochs, vis=False)"
   ]
  },
  {
   "cell_type": "code",
   "execution_count": 40,
   "id": "222f7f37",
   "metadata": {},
   "outputs": [
    {
     "data": {
      "image/png": "[encoded data removed]",
      "text/plain": [
       "<Figure size 720x720 with 2 Axes>"
      ]
     },
     "metadata": {
      "needs_background": "dark"
     },
     "output_type": "display_data"
    }
   ],
   "source": [
    "plot_loss_acc(history)"
   ]
  },
  {
   "cell_type": "code",
   "execution_count": null,
   "id": "b8fb4b5c",
   "metadata": {},
   "outputs": [],
   "source": []
  }
 ],
 "metadata": {
  "kernelspec": {
   "display_name": "Python 3 (ipykernel)",
   "language": "python",
   "name": "python3"
  },
  "language_info": {
   "codemirror_mode": {
    "name": "ipython",
    "version": 3
   },
   "file_extension": ".py",
   "mimetype": "text/x-python",
   "name": "python",
   "nbconvert_exporter": "python",
   "pygments_lexer": "ipython3",
   "version": "3.8.12"
  },
  "toc": {
   "base_numbering": 1,
   "nav_menu": {},
   "number_sections": true,
   "sideBar": true,
   "skip_h1_title": false,
   "title_cell": "Table of Contents",
   "title_sidebar": "Contents",
   "toc_cell": false,
   "toc_position": {},
   "toc_section_display": true,
   "toc_window_display": false
  },
  "varInspector": {
   "cols": {
    "lenName": 16,
    "lenType": 16,
    "lenVar": 40
   },
   "kernels_config": {
    "python": {
     "delete_cmd_postfix": "",
     "delete_cmd_prefix": "del ",
     "library": "var_list.py",
     "varRefreshCmd": "print(var_dic_list())"
    },
    "r": {
     "delete_cmd_postfix": ") ",
     "delete_cmd_prefix": "rm(",
     "library": "var_list.r",
     "varRefreshCmd": "cat(var_dic_list()) "
    }
   },
   "types_to_exclude": [
    "module",
    "function",
    "builtin_function_or_method",
    "instance",
    "_Feature"
   ],
   "window_display": false
  }
 },
 "nbformat": 4,
 "nbformat_minor": 5
}
